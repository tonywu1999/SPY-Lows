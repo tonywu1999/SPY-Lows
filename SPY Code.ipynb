{
 "cells": [
  {
   "cell_type": "code",
   "execution_count": 1,
   "metadata": {},
   "outputs": [
    {
     "name": "stdout",
     "output_type": "stream",
     "text": [
      "Populating the interactive namespace from numpy and matplotlib\n"
     ]
    }
   ],
   "source": [
    "%pylab inline"
   ]
  },
  {
   "cell_type": "code",
   "execution_count": 53,
   "metadata": {},
   "outputs": [],
   "source": [
    "# Data from YAHOO FINANCE.  Data from 2010 to 2019\n",
    "import numpy as np\n",
    "import pandas as pd\n",
    "csv = pd.read_csv('SPY.csv')"
   ]
  },
  {
   "cell_type": "code",
   "execution_count": 54,
   "metadata": {},
   "outputs": [],
   "source": [
    "numBusinessDays = 40"
   ]
  },
  {
   "cell_type": "code",
   "execution_count": 55,
   "metadata": {},
   "outputs": [],
   "source": [
    "X = np.array([csv['Date'], csv['High'], csv['Low']]).T"
   ]
  },
  {
   "cell_type": "code",
   "execution_count": 56,
   "metadata": {},
   "outputs": [],
   "source": [
    "array = []\n",
    "for i in range(len(X) - numBusinessDays):\n",
    "    maxLoss = ((X[i, 1] - X[i + 1, 2]) / X[i, 1]) * 100\n",
    "    for j in range(2, numBusinessDays):\n",
    "        percent = ((X[i, 1] - X[i + j, 2])/X[i, 1]) * 100\n",
    "        if (percent < maxLoss):\n",
    "            maxLoss = percent\n",
    "    \n",
    "    array.append(maxLoss)\n",
    "    \n",
    "array = np.array(array)"
   ]
  },
  {
   "cell_type": "code",
   "execution_count": 57,
   "metadata": {},
   "outputs": [
    {
     "data": {
      "text/plain": [
       "(array([  1.,   0.,   0.,   0.,   1.,   0.,   2.,   2.,   5.,   2.,   4.,\n",
       "          6.,  10.,   5.,   8.,  15.,  15.,  20.,  20.,  35.,  38.,  46.,\n",
       "         59.,  73.,  75.,  89.,  89., 115., 128., 150., 131., 120.,  99.,\n",
       "        133., 149., 159., 144., 118., 125., 112.,  72.,  37.,  23.,  14.,\n",
       "          8.,   4.,   7.,   3.,   3.,   4.]),\n",
       " array([-15.11792252, -14.73202698, -14.34613144, -13.9602359 ,\n",
       "        -13.57434036, -13.18844482, -12.80254928, -12.41665373,\n",
       "        -12.03075819, -11.64486265, -11.25896711, -10.87307157,\n",
       "        -10.48717603, -10.10128049,  -9.71538495,  -9.3294894 ,\n",
       "         -8.94359386,  -8.55769832,  -8.17180278,  -7.78590724,\n",
       "         -7.4000117 ,  -7.01411616,  -6.62822061,  -6.24232507,\n",
       "         -5.85642953,  -5.47053399,  -5.08463845,  -4.69874291,\n",
       "         -4.31284737,  -3.92695183,  -3.54105628,  -3.15516074,\n",
       "         -2.7692652 ,  -2.38336966,  -1.99747412,  -1.61157858,\n",
       "         -1.22568304,  -0.8397875 ,  -0.45389195,  -0.06799641,\n",
       "          0.31789913,   0.70379467,   1.08969021,   1.47558575,\n",
       "          1.86148129,   2.24737684,   2.63327238,   3.01916792,\n",
       "          3.40506346,   3.790959  ,   4.17685454]),\n",
       " <a list of 50 Patch objects>)"
      ]
     },
     "execution_count": 57,
     "metadata": {},
     "output_type": "execute_result"
    },
    {
     "data": {
      "image/png": "[encoded data removed]",
      "text/plain": [
       "<Figure size 432x288 with 1 Axes>"
      ]
     },
     "metadata": {
      "needs_background": "light"
     },
     "output_type": "display_data"
    }
   ],
   "source": [
    "plt.title(\"Maximum Loss Over \" + str(numBusinessDays) + \" Business Days for the SPY\")\n",
    "plt.hist(array, bins=50)"
   ]
  },
  {
   "cell_type": "code",
   "execution_count": 58,
   "metadata": {},
   "outputs": [
    {
     "name": "stdout",
     "output_type": "stream",
     "text": [
      "0.22074253430185634\n"
     ]
    }
   ],
   "source": [
    "# Probability that max loss is below -5\n",
    "\n",
    "probability = np.sum(array < -5)/len(array)\n",
    "print(probability)"
   ]
  },
  {
   "cell_type": "code",
   "execution_count": null,
   "metadata": {},
   "outputs": [],
   "source": []
  }
 ],
 "metadata": {
  "kernelspec": {
   "display_name": "Python 3",
   "language": "python",
   "name": "python3"
  },
  "language_info": {
   "codemirror_mode": {
    "name": "ipython",
    "version": 3
   },
   "file_extension": ".py",
   "mimetype": "text/x-python",
   "name": "python",
   "nbconvert_exporter": "python",
   "pygments_lexer": "ipython3",
   "version": "3.7.3"
  }
 },
 "nbformat": 4,
 "nbformat_minor": 2
}
