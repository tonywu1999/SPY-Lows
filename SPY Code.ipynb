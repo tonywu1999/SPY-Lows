{
 "cells": [
  {
   "cell_type": "code",
   "execution_count": 1,
   "metadata": {},
   "outputs": [
    {
     "name": "stdout",
     "output_type": "stream",
     "text": [
      "Populating the interactive namespace from numpy and matplotlib\n"
     ]
    }
   ],
   "source": [
    "%pylab inline"
   ]
  },
  {
   "cell_type": "code",
   "execution_count": 2,
   "metadata": {},
   "outputs": [],
   "source": [
    "import yfinance as yf  \n",
    "import matplotlib.pyplot as plt\n",
    "import numpy as np\n",
    "import pandas as pd"
   ]
  },
  {
   "cell_type": "code",
   "execution_count": 54,
   "metadata": {},
   "outputs": [
    {
     "name": "stdout",
     "output_type": "stream",
     "text": [
      "[*********************100%***********************]  1 of 1 completed\n"
     ]
    },
    {
     "data": {
      "image/png": "[encoded data removed]",
      "text/plain": [
       "<Figure size 432x288 with 1 Axes>"
      ]
     },
     "metadata": {
      "needs_background": "light"
     },
     "output_type": "display_data"
    }
   ],
   "source": [
    "# Get the data for the SPY ETF by specifying the stock ticker, start date, and end date\n",
    "data = yf.download('SPY','2010-01-01','2021-01-01')\n",
    "# Plot the close prices\n",
    "data[\"Adj Close\"].plot()\n",
    "plt.show()"
   ]
  },
  {
   "cell_type": "code",
   "execution_count": 55,
   "metadata": {},
   "outputs": [],
   "source": [
    "X = np.array([data.index, data['Adj Close'], data['Low']]).T"
   ]
  },
  {
   "cell_type": "code",
   "execution_count": 56,
   "metadata": {},
   "outputs": [
    {
     "name": "stdout",
     "output_type": "stream",
     "text": [
      "8.482231554308877\n"
     ]
    }
   ],
   "source": [
    "# Regular Scenario:\n",
    "monthly_injection = 0 # doesn't seem to be a big factor\n",
    "numBusinessDays = 20 # doesn't seem to be a big factor\n",
    "original = 80000\n",
    "total_original = original\n",
    "cash_percent = 0.7 # seems to be a big factor\n",
    "cash = cash_percent * total_original\n",
    "spy = (1 - cash_percent) * total_original\n",
    "num_spy_stocks = 0\n",
    "\n",
    "for i in range(0, len(X) - numBusinessDays, numBusinessDays):\n",
    "    if i == 0:\n",
    "        num_spy_stocks = spy / X[i,1]\n",
    "    else:\n",
    "        spy = num_spy_stocks * X[i,1]\n",
    "        original = original + monthly_injection\n",
    "        total_original = cash + spy + monthly_injection\n",
    "        new_cash = cash_percent * total_original\n",
    "        difference = cash + monthly_injection - new_cash\n",
    "        spy = spy + difference\n",
    "        cash = new_cash\n",
    "        if difference > 0:\n",
    "            # Buy Stock because SPY went down\n",
    "            num_spy_stocks = num_spy_stocks + difference / X[i,1]\n",
    "            cash_percent = cash_percent - 0.05 if cash_percent > 0.25 else 0.25 # Mechanism to modify cash %\n",
    "        else:\n",
    "            # Sell stock because SPY went up\n",
    "            num_spy_stocks = num_spy_stocks + difference / X[i,1]\n",
    "            cash_percent = cash_percent + 0.05 if cash_percent < 0.75 else 0.75 # Mechanism to modify cash %\n",
    "\n",
    "\n",
    "# Ending\n",
    "spy = num_spy_stocks * X[len(X)-1, 1]\n",
    "total_original = cash + spy\n",
    "\n",
    "print(total_original / original)"
   ]
  },
  {
   "cell_type": "code",
   "execution_count": 57,
   "metadata": {},
   "outputs": [
    {
     "name": "stdout",
     "output_type": "stream",
     "text": [
      "147.69150291730938\n"
     ]
    }
   ],
   "source": [
    "# Buy Hold\n",
    "first_price = X[0,1]\n",
    "last_price = X[len(X)-1, 1]\n",
    "print(last_price / first_price)"
   ]
  },
  {
   "cell_type": "code",
   "execution_count": null,
   "metadata": {},
   "outputs": [],
   "source": []
  },
  {
   "cell_type": "code",
   "execution_count": null,
   "metadata": {},
   "outputs": [],
   "source": []
  }
 ],
 "metadata": {
  "kernelspec": {
   "display_name": "Python 3",
   "language": "python",
   "name": "python3"
  },
  "language_info": {
   "codemirror_mode": {
    "name": "ipython",
    "version": 3
   },
   "file_extension": ".py",
   "mimetype": "text/x-python",
   "name": "python",
   "nbconvert_exporter": "python",
   "pygments_lexer": "ipython3",
   "version": "3.8.8"
  }
 },
 "nbformat": 4,
 "nbformat_minor": 2
}
